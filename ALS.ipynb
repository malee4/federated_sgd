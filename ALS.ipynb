{
  "nbformat": 4,
  "nbformat_minor": 0,
  "metadata": {
    "colab": {
      "provenance": [],
      "authorship_tag": "ABX9TyOORYtrVXmcwKoos/W4MD/M",
      "include_colab_link": true
    },
    "kernelspec": {
      "name": "python3",
      "display_name": "Python 3"
    },
    "language_info": {
      "name": "python"
    }
  },
  "cells": [
    {
      "cell_type": "markdown",
      "metadata": {
        "id": "view-in-github",
        "colab_type": "text"
      },
      "source": [
        "<a href=\"https://colab.research.google.com/github/malee4/summer22_researchproj/blob/master/ALS.ipynb\" target=\"_parent\"><img src=\"https://colab.research.google.com/assets/colab-badge.svg\" alt=\"Open In Colab\"/></a>"
      ]
    },
    {
      "cell_type": "code",
      "execution_count": 2,
      "metadata": {
        "id": "ayUw1Wk7-yVT"
      },
      "outputs": [],
      "source": [
        "import numpy as np\n",
        "from scipy.optimize import minimize"
      ]
    },
    {
      "cell_type": "code",
      "source": [
        "m = 2\n",
        "n = 3\n",
        "E = 0.01\n",
        "# array = np.random.rand(m, n)\n",
        "array = np.array([[2, 1, 1], [1, 0, 1]])\n",
        "u = np.ones((m, 1))\n",
        "p = np.ones((1, n))\n",
        "\n",
        "print(array)\n",
        "print(u)\n",
        "print(p)\n",
        "# print(array[0][0])"
      ],
      "metadata": {
        "colab": {
          "base_uri": "https://localhost:8080/"
        },
        "id": "O0-OosuTXJFe",
        "outputId": "8c156ade-bc74-4c7f-d841-6796d68fd5bc"
      },
      "execution_count": 5,
      "outputs": [
        {
          "output_type": "stream",
          "name": "stdout",
          "text": [
            "[[2 1 1]\n",
            " [1 0 1]]\n",
            "[[1.]\n",
            " [1.]]\n",
            "[[1. 1. 1.]]\n"
          ]
        }
      ]
    },
    {
      "cell_type": "code",
      "source": [
        "# objective: argmin sum((aij - ui * pj)^2)\n",
        "\n",
        "for k in range(100):\n",
        "  x_index = 0\n",
        "  y_index = 0\n",
        "\n",
        "  for j in range(n):\n",
        "    def row_loss_function(x):\n",
        "      sum = 0\n",
        "      for i in range(len(u)):\n",
        "        sum += (array[i][x_index] - x * u[i][0])**2\n",
        "      return sum\n",
        "    p[0][j] = minimize(row_loss_function, x0 = 0.5).x\n",
        "    x_index += 1\n",
        "\n",
        "  # print(p)\n",
        "\n",
        "  for i in range(m):\n",
        "    def col_loss_function(y):\n",
        "      sum = 0\n",
        "      for j in range(len(p)):\n",
        "        sum += (array[y_index][j] - y * p[0][j])**2\n",
        "      return sum\n",
        "    u[i][0] = minimize(col_loss_function, x0 = 0.5).x\n",
        "    y_index += 1\n",
        "\n",
        "  # print(u)\n",
        "\n",
        "out = np.matmul(u, p)\n",
        "print(out)\n",
        "# print(u)\n",
        "# print(p)\n",
        "# alternating least squares\n",
        "# initialize random values for u (col), p (row)\n",
        "u = np.ones((m, 1))\n",
        "\n",
        "\n"
      ],
      "metadata": {
        "colab": {
          "base_uri": "https://localhost:8080/"
        },
        "id": "GbS_UmsRXVGb",
        "outputId": "abb23bb5-5ea1-4a33-8d72-5b55a129d5c4"
      },
      "execution_count": 6,
      "outputs": [
        {
          "output_type": "stream",
          "name": "stdout",
          "text": [
            "[[1.99999999 0.8        1.2       ]\n",
            " [1.         0.4        0.6       ]]\n"
          ]
        }
      ]
    },
    {
      "cell_type": "markdown",
      "source": [
        "Federated ALS Demo"
      ],
      "metadata": {
        "id": "bNsbGwge_5Wd"
      }
    },
    {
      "cell_type": "code",
      "source": [
        "# for some number of iterations\n",
        "  # run local ALS and average"
      ],
      "metadata": {
        "id": "Gx4T19rq_5Ca"
      },
      "execution_count": null,
      "outputs": []
    }
  ]
}